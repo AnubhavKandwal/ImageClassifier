{
 "cells": [
  {
   "cell_type": "code",
   "execution_count": 1,
   "id": "bf7c16c9",
   "metadata": {},
   "outputs": [],
   "source": [
    "#imports for automation\n",
    "from selenium import webdriver\n",
    "from selenium.webdriver.common.by import By\n",
    "from selenium.webdriver.common.keys import Keys\n",
    "\n",
    "#import for web scrapping\n",
    "from bs4 import BeautifulSoup as bs\n",
    "import requests\n",
    "from os.path import basename\n",
    "import base64\n",
    "\n",
    "#extra imports\n",
    "import traceback\n",
    "import time"
   ]
  },
  {
   "cell_type": "code",
   "execution_count": 2,
   "id": "87aad4b5",
   "metadata": {},
   "outputs": [],
   "source": [
    "def topic_image(topic, driver):\n",
    "    try:\n",
    "        search = driver.find_element(By.CLASS_NAME, 'gLFyf')\n",
    "        search.send_keys(topic)\n",
    "        search.send_keys(Keys.RETURN)\n",
    "\n",
    "        image_page = driver.find_element(By.LINK_TEXT, 'Images')\n",
    "        image_page.click()\n",
    "        \n",
    "#         if driver.find_element(By.CLASS_NAME, 'WhIsp'):\n",
    "#             m = driver.find_element(By.CLASS_NAME, 'WhIsp')\n",
    "#             m.click()\n",
    "            \n",
    "#             off = driver.find_element(By.LINK_TEXT, 'OFF')\n",
    "#             off.click()\n",
    "            \n",
    "        \n",
    "        images = driver.find_element(By.CLASS_NAME, 'islrc')\n",
    "        return images\n",
    "        \n",
    "#         time.sleep(200)\n",
    "        \n",
    "    except:\n",
    "        traceback.print_exc()"
   ]
  },
  {
   "cell_type": "code",
   "execution_count": 3,
   "id": "70137481",
   "metadata": {},
   "outputs": [],
   "source": [
    "def image_download(topic, driver):\n",
    "    page = topic_image(topic, driver)\n",
    "    i = 0\n",
    "    elements = page.get_attribute('outerHTML') #gives exact HTML content of the element\n",
    "    soup = bs(elements,'html.parser')\n",
    "    img = soup.findAll('img',{\"src\":True})\n",
    "    print(len(img))\n",
    "    for link in img:\n",
    "        png = link[\"src\"]\n",
    "        if r\"data:image\" in png:\n",
    "            data = png.split(',')[1]\n",
    "            i = i+1\n",
    "            with open(f\"data{i}.png\", \"wb\") as f:\n",
    "                f.write(base64.b64decode(data))\n",
    "        else:\n",
    "            with open(f\"file{++i}.png\", \"wb\") as f:\n",
    "                f.write(requests.get(png).content)\n",
    "    time.sleep(200)"
   ]
  },
  {
   "cell_type": "code",
   "execution_count": null,
   "id": "d709b9ad",
   "metadata": {
    "scrolled": true
   },
   "outputs": [
    {
     "name": "stdout",
     "output_type": "stream",
     "text": [
      "40\n"
     ]
    }
   ],
   "source": [
    "if __name__ == \"__main__\":\n",
    "    try:\n",
    "        driver = webdriver.Chrome()\n",
    "        driver.get('https://www.google.com')\n",
    "        image_download(\"dogs\", driver)\n",
    "    finally:\n",
    "        driver.close()"
   ]
  },
  {
   "cell_type": "code",
   "execution_count": 130,
   "id": "5e4c96f2",
   "metadata": {},
   "outputs": [
    {
     "data": {
      "text/plain": [
       "str"
      ]
     },
     "execution_count": 130,
     "metadata": {},
     "output_type": "execute_result"
    }
   ],
   "source": [
    "type(\"anu\")"
   ]
  }
 ],
 "metadata": {
  "kernelspec": {
   "display_name": "Python 3 (ipykernel)",
   "language": "python",
   "name": "python3"
  },
  "language_info": {
   "codemirror_mode": {
    "name": "ipython",
    "version": 3
   },
   "file_extension": ".py",
   "mimetype": "text/x-python",
   "name": "python",
   "nbconvert_exporter": "python",
   "pygments_lexer": "ipython3",
   "version": "3.11.2"
  }
 },
 "nbformat": 4,
 "nbformat_minor": 5
}
