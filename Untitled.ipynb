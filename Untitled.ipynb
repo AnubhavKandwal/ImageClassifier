{
 "cells": [
  {
   "cell_type": "code",
   "execution_count": 1,
   "id": "7c1d3b5f",
   "metadata": {},
   "outputs": [],
   "source": [
    "#imports for automation\n",
    "from selenium import webdriver\n",
    "from selenium.webdriver.common.by import By\n",
    "from selenium.webdriver.common.keys import Keys\n",
    "\n",
    "#import for web scrapping\n",
    "from bs4 import BeautifulSoup as bs\n",
    "import requests\n",
    "from os.path import basename\n",
    "import base64\n",
    "\n",
    "#import for image visualization\n",
    "import matplotlib.pyplot as plt\n",
    "import matplotlib.image as img\n",
    "from PIL import Image as pil\n",
    "\n",
    "#import for image augmentation\n",
    "import tensorflow.image as tfimg\n",
    "\n",
    "#import for model generation\n",
    "import tensorflow as tf\n",
    "from keras.models import Sequential\n",
    "import keras.callbacks\n",
    "from tensorflow.keras.models import Sequential\n",
    "from tensorflow.keras.layers import Conv2D, MaxPooling2D, Dense, Flatten, Dropout\n",
    "from tensorflow.keras.metrics import Precision, Recall, BinaryAccuracy\n",
    "\n",
    "\n",
    "#extra imports\n",
    "import traceback\n",
    "import time\n",
    "import os\n",
    "import numpy as np"
   ]
  },
  {
   "cell_type": "markdown",
   "id": "9132cf96",
   "metadata": {},
   "source": [
    "# Data Collection\n",
    "\n",
    "This section scrapes data from Google Images and stores them in different folders/"
   ]
  },
  {
   "cell_type": "code",
   "execution_count": 23,
   "id": "87aad4b5",
   "metadata": {},
   "outputs": [],
   "source": [
    "class data_accumulator:\n",
    "    \n",
    "    def __init__(self, topic, folder, number):\n",
    "        self.topic = topic\n",
    "        self.folder = folder\n",
    "        self.number = number\n",
    "\n",
    "\n",
    "    def topic_image(self):\n",
    "        try:\n",
    "            total = 0\n",
    "            img_elements = []\n",
    "            img_tuple = tuple()\n",
    "            driver = webdriver.Chrome()\n",
    "            driver.get('https://www.google.com')\n",
    "            search = driver.find_element(By.CLASS_NAME, 'gLFyf')\n",
    "            search.send_keys(self.topic)\n",
    "            search.send_keys(Keys.RETURN)\n",
    "\n",
    "            image_page = driver.find_element(By.LINK_TEXT, 'Images')\n",
    "            image_page.click()\n",
    "\n",
    "            try:\n",
    "                if driver.find_element(By.CLASS_NAME, \"WhIsp \"):\n",
    "                    a = driver.find_element(By.CLASS_NAME, \"WhIsp \")\n",
    "                    a.click()\n",
    "                    b = driver.find_elements(By.CLASS_NAME, \"GZcH3e\")\n",
    "                    b[2].click()\n",
    "                    c = driver.find_element(By.CLASS_NAME, \"kZgzZe\")\n",
    "                    c.click()\n",
    "            finally:\n",
    "                while total < self.number:\n",
    "                    images = driver.find_element(By.CLASS_NAME, 'islrc')\n",
    "                    elements = images.get_attribute('outerHTML') #gives exact HTML content of the element\n",
    "                    soup = bs(elements,'html.parser')\n",
    "                    img = soup.findAll('img',{\"src\":True, \"height\":True, \"width\":True})\n",
    "                    img_tuple = img\n",
    "                    total = total + len(img_tuple)\n",
    "                    driver.execute_script(\"window.scrollTo(0, document.body.scrollHeight);\")\n",
    "                    time.sleep(5)\n",
    "                driver.close()\n",
    "                return img_tuple\n",
    "\n",
    "        except:\n",
    "            traceback.print_exc()\n",
    "\n",
    "\n",
    "    def image_download(self):\n",
    "        current_dir = os.getcwd()\n",
    "        data_dir = os.path.join(current_dir, \"data\")\n",
    "        if(not(os.path.exists(os.path.join(data_dir, self.folder)))):\n",
    "            os.mkdir(os.path.join(data_dir, self.folder))\n",
    "            os.chdir(os.path.join(data_dir, self.folder))\n",
    "        else:\n",
    "            os.chdir(os.path.join(data_dir, self.folder))\n",
    "        \n",
    "        page = self.topic_image()\n",
    "        i = 0\n",
    "        for link in page:\n",
    "            png = link[\"src\"]\n",
    "            if r\"data:image\" in png:\n",
    "                data = png.split(',')[1]\n",
    "                i = i+1\n",
    "                with open(f\"data{i}.png\", \"wb\") as f:\n",
    "                    f.write(base64.b64decode(data))\n",
    "            else:\n",
    "                i = i+1\n",
    "                with open(f\"data{i}.png\", \"wb\") as f:\n",
    "                    f.write(requests.get(png).content)\n",
    "        \n",
    "        os.chdir(current_dir)\n",
    "#         time.sleep(500)"
   ]
  },
  {
   "cell_type": "code",
   "execution_count": 24,
   "id": "de97f62d",
   "metadata": {},
   "outputs": [],
   "source": [
    "c = data_accumulator(\"Dogs\", \"Dogs\", 60)\n",
    "c.image_download()"
   ]
  },
  {
   "cell_type": "code",
   "execution_count": null,
   "id": "48286f46",
   "metadata": {},
   "outputs": [],
   "source": []
  },
  {
   "cell_type": "markdown",
   "id": "dd069087",
   "metadata": {},
   "source": [
    "# Dataset Noise Addition\n",
    "Adding noisy images to the dataset to get more robust model and also increase the number of dataset values to train and test"
   ]
  },
  {
   "cell_type": "code",
   "execution_count": 3,
   "id": "34ab96ac",
   "metadata": {},
   "outputs": [],
   "source": [
    "class image_augmentation:\n",
    "    \n",
    "    def flip(self, picture):\n",
    "        x = tf.image.random_flip_left_right(picture)\n",
    "        x = tf.image.random_flip_up_down(picture)\n",
    "        return x\n",
    "\n",
    "    def color(self, picture):\n",
    "        x = tf.image.random_hue(picture, 0.5)\n",
    "        x = tf.image.random_saturation(picture, 0.3, 1.6)\n",
    "        x = tf.image.random_brightness(picture, 0.8)\n",
    "        x = tf.image.random_contrast(picture, 0.7, 1.3)\n",
    "        return x\n",
    "\n",
    "    def rotate(self, picture):  \n",
    "        return tf.image.rot90(picture, tf.random.uniform(shape=[], minval=0, maxval=4, dtype=tf.int32))\n",
    "    \n",
    "    # Add augmentations\n",
    "    def image_augmentor(self, picture):       \n",
    "        functions = [self.flip, self.color, self.rotate]\n",
    "        photo = picture\n",
    "        for func in functions:\n",
    "            photo = func(photo)        \n",
    "        return photo"
   ]
  },
  {
   "cell_type": "code",
   "execution_count": 4,
   "id": "e471388b",
   "metadata": {},
   "outputs": [],
   "source": [
    "class data_generator:\n",
    "    \n",
    "    def __init__(self, item, loc, number):\n",
    "        self.topic = item\n",
    "        self.folder = loc\n",
    "        self.current_dir = os.getcwd()\n",
    "        self.number = number\n",
    "    \n",
    "    \n",
    "    def accumulate(self):\n",
    "        acc = data_accumulator(topic=self.topic, folder=self.folder, number=self.number)\n",
    "        acc.image_download()\n",
    "    \n",
    "    def set_path(self):\n",
    "        current_dir = os.getcwd()\n",
    "        data_dir = os.path.join(current_dir, \"data\")\n",
    "        return os.chdir(os.path.join(data_dir, self.folder))\n",
    "    \n",
    "    def augment(self):\n",
    "        augment = image_augmentation()\n",
    "        files = os.listdir(self.set_path())\n",
    "        j = 0\n",
    "    \n",
    "        for i in files:\n",
    "            if \"data\" in i:\n",
    "                with open(i, \"rb\") as f:\n",
    "                    x = pil.open(i)\n",
    "                    if x.mode == 'CMYK':\n",
    "                        x = x.convert('RGB')\n",
    "                    flip_aug = augment.flip(x)\n",
    "                    color_aug = augment.color(x)\n",
    "                    rot_aug = augment.rotate(x)\n",
    "                    collective_aug = augment.image_augmentor(x)\n",
    "            \n",
    "            with open(f\"flip{j}.png\", \"wb\") as f:\n",
    "                j = j+1\n",
    "                f.write(tf.image.encode_png(flip_aug).numpy())\n",
    "            \n",
    "            with open(f\"color{j}.png\", \"wb\") as f:\n",
    "                j = j+1\n",
    "                f.write(tf.image.encode_png(color_aug).numpy())\n",
    "                \n",
    "            with open(f\"rotate{j}.png\", \"wb\") as f:\n",
    "                j = j+1\n",
    "                f.write(tf.image.encode_png(rot_aug).numpy())\n",
    "                \n",
    "            with open(f\"aug{j}.png\", \"wb\") as f:\n",
    "                j = j+1\n",
    "                f.write(tf.image.encode_png(collective_aug).numpy())\n",
    "            \n",
    "        os.chdir(self.current_dir)\n"
   ]
  },
  {
   "cell_type": "code",
   "execution_count": 12,
   "id": "a8134896",
   "metadata": {},
   "outputs": [],
   "source": [
    "os.chdir(r\"E:\\Github\\Deep-Learning\\ImageClassifier\")"
   ]
  },
  {
   "cell_type": "code",
   "execution_count": 11,
   "id": "9961b978",
   "metadata": {},
   "outputs": [
    {
     "data": {
      "text/plain": [
       "'E:\\\\Github\\\\Deep-Learning\\\\ImageClassifier'"
      ]
     },
     "execution_count": 11,
     "metadata": {},
     "output_type": "execute_result"
    }
   ],
   "source": [
    "os.getcwd()"
   ]
  },
  {
   "cell_type": "code",
   "execution_count": 6,
   "id": "a7aafd03",
   "metadata": {},
   "outputs": [
    {
     "ename": "ValueError",
     "evalue": "'image' (shape (100, 100)) must be at least three-dimensional.",
     "output_type": "error",
     "traceback": [
      "\u001b[1;31m---------------------------------------------------------------------------\u001b[0m",
      "\u001b[1;31mValueError\u001b[0m                                Traceback (most recent call last)",
      "Cell \u001b[1;32mIn[6], line 4\u001b[0m\n\u001b[0;32m      2\u001b[0m a \u001b[38;5;241m=\u001b[39m data_generator(\u001b[38;5;124m\"\u001b[39m\u001b[38;5;124mDogs\u001b[39m\u001b[38;5;124m\"\u001b[39m, \u001b[38;5;124m\"\u001b[39m\u001b[38;5;124mDogs\u001b[39m\u001b[38;5;124m\"\u001b[39m, \u001b[38;5;241m1000\u001b[39m)\n\u001b[0;32m      3\u001b[0m a\u001b[38;5;241m.\u001b[39maccumulate()\n\u001b[1;32m----> 4\u001b[0m \u001b[43ma\u001b[49m\u001b[38;5;241;43m.\u001b[39;49m\u001b[43maugment\u001b[49m\u001b[43m(\u001b[49m\u001b[43m)\u001b[49m\n",
      "Cell \u001b[1;32mIn[4], line 30\u001b[0m, in \u001b[0;36mdata_generator.augment\u001b[1;34m(self)\u001b[0m\n\u001b[0;32m     28\u001b[0m \u001b[38;5;28;01mif\u001b[39;00m x\u001b[38;5;241m.\u001b[39mmode \u001b[38;5;241m==\u001b[39m \u001b[38;5;124m'\u001b[39m\u001b[38;5;124mCMYK\u001b[39m\u001b[38;5;124m'\u001b[39m:\n\u001b[0;32m     29\u001b[0m     x \u001b[38;5;241m=\u001b[39m x\u001b[38;5;241m.\u001b[39mconvert(\u001b[38;5;124m'\u001b[39m\u001b[38;5;124mRGB\u001b[39m\u001b[38;5;124m'\u001b[39m)\n\u001b[1;32m---> 30\u001b[0m flip_aug \u001b[38;5;241m=\u001b[39m \u001b[43maugment\u001b[49m\u001b[38;5;241;43m.\u001b[39;49m\u001b[43mflip\u001b[49m\u001b[43m(\u001b[49m\u001b[43mx\u001b[49m\u001b[43m)\u001b[49m\n\u001b[0;32m     31\u001b[0m color_aug \u001b[38;5;241m=\u001b[39m augment\u001b[38;5;241m.\u001b[39mcolor(x)\n\u001b[0;32m     32\u001b[0m rot_aug \u001b[38;5;241m=\u001b[39m augment\u001b[38;5;241m.\u001b[39mrotate(x)\n",
      "Cell \u001b[1;32mIn[3], line 4\u001b[0m, in \u001b[0;36mimage_augmentation.flip\u001b[1;34m(self, picture)\u001b[0m\n\u001b[0;32m      3\u001b[0m \u001b[38;5;28;01mdef\u001b[39;00m \u001b[38;5;21mflip\u001b[39m(\u001b[38;5;28mself\u001b[39m, picture):\n\u001b[1;32m----> 4\u001b[0m     x \u001b[38;5;241m=\u001b[39m \u001b[43mtf\u001b[49m\u001b[38;5;241;43m.\u001b[39;49m\u001b[43mimage\u001b[49m\u001b[38;5;241;43m.\u001b[39;49m\u001b[43mrandom_flip_left_right\u001b[49m\u001b[43m(\u001b[49m\u001b[43mpicture\u001b[49m\u001b[43m)\u001b[49m\n\u001b[0;32m      5\u001b[0m     x \u001b[38;5;241m=\u001b[39m tf\u001b[38;5;241m.\u001b[39mimage\u001b[38;5;241m.\u001b[39mrandom_flip_up_down(picture)\n\u001b[0;32m      6\u001b[0m     \u001b[38;5;28;01mreturn\u001b[39;00m x\n",
      "File \u001b[1;32mF:\\Installations\\Python\\Lib\\site-packages\\tensorflow\\python\\util\\traceback_utils.py:153\u001b[0m, in \u001b[0;36mfilter_traceback.<locals>.error_handler\u001b[1;34m(*args, **kwargs)\u001b[0m\n\u001b[0;32m    151\u001b[0m \u001b[38;5;28;01mexcept\u001b[39;00m \u001b[38;5;167;01mException\u001b[39;00m \u001b[38;5;28;01mas\u001b[39;00m e:\n\u001b[0;32m    152\u001b[0m   filtered_tb \u001b[38;5;241m=\u001b[39m _process_traceback_frames(e\u001b[38;5;241m.\u001b[39m__traceback__)\n\u001b[1;32m--> 153\u001b[0m   \u001b[38;5;28;01mraise\u001b[39;00m e\u001b[38;5;241m.\u001b[39mwith_traceback(filtered_tb) \u001b[38;5;28;01mfrom\u001b[39;00m \u001b[38;5;28;01mNone\u001b[39;00m\n\u001b[0;32m    154\u001b[0m \u001b[38;5;28;01mfinally\u001b[39;00m:\n\u001b[0;32m    155\u001b[0m   \u001b[38;5;28;01mdel\u001b[39;00m filtered_tb\n",
      "File \u001b[1;32mF:\\Installations\\Python\\Lib\\site-packages\\tensorflow\\python\\ops\\image_ops_impl.py:221\u001b[0m, in \u001b[0;36m_CheckAtLeast3DImage\u001b[1;34m(image, require_static)\u001b[0m\n\u001b[0;32m    219\u001b[0m     image_shape \u001b[38;5;241m=\u001b[39m image\u001b[38;5;241m.\u001b[39mget_shape()\u001b[38;5;241m.\u001b[39mwith_rank_at_least(\u001b[38;5;241m3\u001b[39m)\n\u001b[0;32m    220\u001b[0m \u001b[38;5;28;01mexcept\u001b[39;00m \u001b[38;5;167;01mValueError\u001b[39;00m:\n\u001b[1;32m--> 221\u001b[0m   \u001b[38;5;28;01mraise\u001b[39;00m \u001b[38;5;167;01mValueError\u001b[39;00m(\u001b[38;5;124m\"\u001b[39m\u001b[38;5;124m'\u001b[39m\u001b[38;5;124mimage\u001b[39m\u001b[38;5;124m'\u001b[39m\u001b[38;5;124m (shape \u001b[39m\u001b[38;5;132;01m%s\u001b[39;00m\u001b[38;5;124m) must be at least three-dimensional.\u001b[39m\u001b[38;5;124m\"\u001b[39m \u001b[38;5;241m%\u001b[39m\n\u001b[0;32m    222\u001b[0m                    image\u001b[38;5;241m.\u001b[39mshape)\n\u001b[0;32m    223\u001b[0m \u001b[38;5;28;01mif\u001b[39;00m require_static \u001b[38;5;129;01mand\u001b[39;00m \u001b[38;5;129;01mnot\u001b[39;00m image_shape\u001b[38;5;241m.\u001b[39mis_fully_defined():\n\u001b[0;32m    224\u001b[0m   \u001b[38;5;28;01mraise\u001b[39;00m \u001b[38;5;167;01mValueError\u001b[39;00m(\u001b[38;5;124m'\u001b[39m\u001b[38;5;130;01m\\'\u001b[39;00m\u001b[38;5;124mimage\u001b[39m\u001b[38;5;130;01m\\'\u001b[39;00m\u001b[38;5;124m must be fully defined.\u001b[39m\u001b[38;5;124m'\u001b[39m)\n",
      "\u001b[1;31mValueError\u001b[0m: 'image' (shape (100, 100)) must be at least three-dimensional."
     ]
    }
   ],
   "source": [
    "if __name__ == \"__main__\":\n",
    "    a = data_generator(\"Dogs\", \"Dogs\", 1000)\n",
    "    a.accumulate()\n",
    "    a.augment()"
   ]
  },
  {
   "cell_type": "markdown",
   "id": "5e950727",
   "metadata": {},
   "source": [
    "# Image Classifier\n",
    "This section would consist of the Image Classifier model set."
   ]
  },
  {
   "cell_type": "markdown",
   "id": "db071f5d",
   "metadata": {},
   "source": [
    "## Dataset Creation\n",
    "Creating a pipeline to fetch the data"
   ]
  },
  {
   "cell_type": "code",
   "execution_count": null,
   "id": "f9199e92",
   "metadata": {},
   "outputs": [],
   "source": [
    "data = tf.keras.utils.image_dataset_from_directory(\"./data/\")\n",
    "data_iterator = data.as_numpy_iterator()"
   ]
  },
  {
   "cell_type": "code",
   "execution_count": null,
   "id": "f928de63",
   "metadata": {},
   "outputs": [],
   "source": [
    "batch = data_iterator.next()"
   ]
  },
  {
   "cell_type": "code",
   "execution_count": null,
   "id": "cae06977",
   "metadata": {},
   "outputs": [],
   "source": [
    "fig, ax = plt.subplots(ncols=4, figsize=(20,20))\n",
    "for idx, img in enumerate(batch[0][:4]):\n",
    "    ax[idx].imshow(img.astype(int))\n",
    "    ax[idx].title.set_text(batch[1][idx])"
   ]
  },
  {
   "cell_type": "code",
   "execution_count": null,
   "id": "dba99e31",
   "metadata": {},
   "outputs": [],
   "source": [
    "data = data.map(lambda x,y: (x/255, y))\n",
    "data.as_numpy_iterator().next()"
   ]
  },
  {
   "cell_type": "code",
   "execution_count": null,
   "id": "00a83d93",
   "metadata": {},
   "outputs": [],
   "source": [
    "train_size = int(len(data)*.7)\n",
    "val_size = int(len(data)*.2)\n",
    "test_size = int(len(data)*.1)"
   ]
  },
  {
   "cell_type": "code",
   "execution_count": null,
   "id": "265cd5c1",
   "metadata": {},
   "outputs": [],
   "source": [
    "train = data.take(train_size)\n",
    "val = data.skip(train_size).take(val_size)\n",
    "test = data.skip(train_size+val_size).take(test_size)"
   ]
  },
  {
   "cell_type": "code",
   "execution_count": null,
   "id": "8133dc3d",
   "metadata": {},
   "outputs": [],
   "source": [
    "model = Sequential()\n",
    "model.add(Conv2D(16, (3,3), 1, activation='relu', input_shape=(256,256,3)))\n",
    "model.add(MaxPooling2D())\n",
    "model.add(Dropout(0.3))\n",
    "model.add(Conv2D(32, (3,3), 1, activation='relu'))\n",
    "model.add(MaxPooling2D())\n",
    "model.add(Dropout(0.3))\n",
    "model.add(Conv2D(16, (3,3), 1, activation='relu'))\n",
    "model.add(MaxPooling2D())\n",
    "model.add(Dropout(0.3))\n",
    "model.add(Flatten())\n",
    "model.add(Dense(256, activation='relu'))\n",
    "model.add(Dense(1, activation='sigmoid'))"
   ]
  },
  {
   "cell_type": "code",
   "execution_count": null,
   "id": "62eecd78",
   "metadata": {},
   "outputs": [],
   "source": [
    "model.compile('adam', loss=tf.losses.BinaryCrossentropy(), metrics=['accuracy'])"
   ]
  },
  {
   "cell_type": "code",
   "execution_count": null,
   "id": "15ca3dad",
   "metadata": {},
   "outputs": [],
   "source": [
    "model.summary()"
   ]
  },
  {
   "cell_type": "code",
   "execution_count": null,
   "id": "960cca4b",
   "metadata": {},
   "outputs": [],
   "source": [
    "logdir='logs'\n",
    "tensorboard_callback = tf.keras.callbacks.TensorBoard(log_dir=logdir)\n",
    "hist = model.fit(train, epochs=20, validation_data=val, callbacks=[tensorboard_callback])"
   ]
  },
  {
   "cell_type": "code",
   "execution_count": null,
   "id": "6290d0ee",
   "metadata": {},
   "outputs": [],
   "source": [
    "fig = plt.figure()\n",
    "plt.plot(hist.history['accuracy'], color='teal', label='accuracy')\n",
    "plt.plot(hist.history['val_accuracy'], color='orange', label='val_accuracy')\n",
    "fig.suptitle('Accuracy', fontsize=20)\n",
    "plt.legend(loc=\"upper left\")\n",
    "plt.show()"
   ]
  },
  {
   "cell_type": "code",
   "execution_count": null,
   "id": "c7d551a9",
   "metadata": {},
   "outputs": [],
   "source": [
    "pre = Precision()\n",
    "re = Recall()\n",
    "acc = BinaryAccuracy()\n",
    "\n",
    "for batch in test.as_numpy_iterator(): \n",
    "    X, y = batch\n",
    "    yhat = model.predict(X)\n",
    "    pre.update_state(y, yhat)\n",
    "    re.update_state(y, yhat)\n",
    "    acc.update_state(y, yhat)\n",
    "\n",
    "print(pre.result(), re.result(), acc.result())"
   ]
  },
  {
   "cell_type": "code",
   "execution_count": null,
   "id": "cf0f70a7",
   "metadata": {},
   "outputs": [],
   "source": [
    "img = pil.open(\"E:/Downloads/images.png\")\n",
    "cmg = plt.imread(\"E:\\Downloads\\cat_test.png\", format=\"PNG\")\n",
    "plt.imshow(img)\n",
    "print(img.mode)"
   ]
  },
  {
   "cell_type": "code",
   "execution_count": null,
   "id": "de09b781",
   "metadata": {},
   "outputs": [],
   "source": [
    "resize = tf.image.resize(cmg, (256,256))\n",
    "plt.imshow(resize.numpy().astype(int))\n",
    "plt.show()\n"
   ]
  },
  {
   "cell_type": "code",
   "execution_count": null,
   "id": "dc2d179d",
   "metadata": {},
   "outputs": [],
   "source": [
    "yhat = model.predict(np.expand_dims(resize/255, 0))"
   ]
  },
  {
   "cell_type": "code",
   "execution_count": null,
   "id": "4628b34f",
   "metadata": {},
   "outputs": [],
   "source": [
    "yhat"
   ]
  },
  {
   "cell_type": "code",
   "execution_count": null,
   "id": "ce96284b",
   "metadata": {},
   "outputs": [],
   "source": []
  },
  {
   "cell_type": "markdown",
   "id": "2df4e29c",
   "metadata": {},
   "source": [
    "# Driver Code "
   ]
  },
  {
   "cell_type": "code",
   "execution_count": null,
   "id": "78f62cf7",
   "metadata": {},
   "outputs": [],
   "source": []
  },
  {
   "cell_type": "code",
   "execution_count": null,
   "id": "14934d44",
   "metadata": {},
   "outputs": [],
   "source": []
  }
 ],
 "metadata": {
  "kernelspec": {
   "display_name": "Python 3 (ipykernel)",
   "language": "python",
   "name": "python3"
  },
  "language_info": {
   "codemirror_mode": {
    "name": "ipython",
    "version": 3
   },
   "file_extension": ".py",
   "mimetype": "text/x-python",
   "name": "python",
   "nbconvert_exporter": "python",
   "pygments_lexer": "ipython3",
   "version": "3.11.2"
  }
 },
 "nbformat": 4,
 "nbformat_minor": 5
}
