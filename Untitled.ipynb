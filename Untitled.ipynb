{
 "cells": [
  {
   "cell_type": "code",
   "execution_count": 1,
   "id": "bf7c16c9",
   "metadata": {},
   "outputs": [],
   "source": [
    "#imports for automation\n",
    "from selenium import webdriver\n",
    "from selenium.webdriver.common.by import By\n",
    "from selenium.webdriver.common.keys import Keys\n",
    "\n",
    "#import for web scrapping\n",
    "from bs4 import BeautifulSoup as bs\n",
    "import requests\n",
    "from os.path import basename\n",
    "import base64\n",
    "\n",
    "#extra imports\n",
    "import traceback\n",
    "import time"
   ]
  },
  {
   "cell_type": "code",
   "execution_count": 2,
   "id": "87aad4b5",
   "metadata": {},
   "outputs": [],
   "source": [
    "def topic_image(topic, driver):\n",
    "    try:\n",
    "        search = driver.find_element(By.CLASS_NAME, 'gLFyf')\n",
    "        search.send_keys(topic)\n",
    "        search.send_keys(Keys.RETURN)\n",
    "\n",
    "        image_page = driver.find_element(By.LINK_TEXT, 'Images')\n",
    "        image_page.click()\n",
    "        \n",
    "#         if driver.find_element(By.CLASS_NAME, 'WhIsp'):\n",
    "#             m = driver.find_element(By.CLASS_NAME, 'WhIsp')\n",
    "#             m.click()\n",
    "            \n",
    "#             off = driver.find_element(By.LINK_TEXT, 'OFF')\n",
    "#             off.click()\n",
    "            \n",
    "        \n",
    "        images = driver.find_element(By.CLASS_NAME, 'islrc')\n",
    "        return images\n",
    "        \n",
    "#         time.sleep(200)\n",
    "        \n",
    "    except:\n",
    "        traceback.print_exc()"
   ]
  },
  {
   "cell_type": "code",
   "execution_count": 3,
   "id": "ebabe5d0",
   "metadata": {},
   "outputs": [],
   "source": [
    "def image_download(topic, driver):\n",
    "    page = topic_image(topic, driver)\n",
    "    i = 0\n",
    "    elements = page.get_attribute('outerHTML') #gives exact HTML content of the element\n",
    "    soup = bs(elements,'html.parser')\n",
    "    img = soup.findAll('img',{\"src\":True})\n",
    "    print(len(img))\n",
    "    for link in img:\n",
    "        png = link[\"src\"]\n",
    "        if r\"data:image\" in png:\n",
    "            data = png.split(',')[1]\n",
    "            i = i+1\n",
    "            with open(f\"data{i}.png\", \"wb\") as f:\n",
    "                f.write(base64.b64decode(data))\n",
    "        else:\n",
    "            with open(f\"file{++i}.png\", \"wb\") as f:\n",
    "                f.write(requests.get(png).content)\n",
    "    time.sleep(200)"
   ]
  },
  {
   "cell_type": "code",
   "execution_count": 4,
   "id": "d709b9ad",
   "metadata": {
    "scrolled": true
   },
   "outputs": [
    {
     "name": "stdout",
     "output_type": "stream",
     "text": [
      "40\n"
     ]
    },
    {
     "ename": "WebDriverException",
     "evalue": "Message: disconnected: not connected to DevTools\n  (failed to check if window was closed: disconnected: not connected to DevTools)\n  (Session info: chrome=114.0.5735.199)\nStacktrace:\nBacktrace:\n\tGetHandleVerifier [0x00E0A813+48355]\n\t(No symbol) [0x00D9C4B1]\n\t(No symbol) [0x00CA5358]\n\t(No symbol) [0x00C970EB]\n\t(No symbol) [0x00C977AA]\n\t(No symbol) [0x00C97748]\n\t(No symbol) [0x00C8C2AA]\n\t(No symbol) [0x00C8CB1D]\n\t(No symbol) [0x00CF27B8]\n\t(No symbol) [0x00CEA703]\n\t(No symbol) [0x00CC82DC]\n\t(No symbol) [0x00CC93DD]\n\tGetHandleVerifier [0x0106AABD+2539405]\n\tGetHandleVerifier [0x010AA78F+2800735]\n\tGetHandleVerifier [0x010A456C+2775612]\n\tGetHandleVerifier [0x00E951E0+616112]\n\t(No symbol) [0x00DA5F8C]\n\t(No symbol) [0x00DA2328]\n\t(No symbol) [0x00DA240B]\n\t(No symbol) [0x00D94FF7]\n\tBaseThreadInitThunk [0x76B500C9+25]\n\tRtlGetAppContainerNamedObjectPath [0x77EA7B4E+286]\n\tRtlGetAppContainerNamedObjectPath [0x77EA7B1E+238]\n",
     "output_type": "error",
     "traceback": [
      "\u001b[1;31m---------------------------------------------------------------------------\u001b[0m",
      "\u001b[1;31mWebDriverException\u001b[0m                        Traceback (most recent call last)",
      "Cell \u001b[1;32mIn[4], line 7\u001b[0m\n\u001b[0;32m      5\u001b[0m     image_download(\u001b[38;5;124m\"\u001b[39m\u001b[38;5;124msinn sage  lesbian 4k\u001b[39m\u001b[38;5;124m\"\u001b[39m, driver)\n\u001b[0;32m      6\u001b[0m \u001b[38;5;28;01mfinally\u001b[39;00m:\n\u001b[1;32m----> 7\u001b[0m     \u001b[43mdriver\u001b[49m\u001b[38;5;241;43m.\u001b[39;49m\u001b[43mclose\u001b[49m\u001b[43m(\u001b[49m\u001b[43m)\u001b[49m\n",
      "File \u001b[1;32mF:\\Installations\\Python\\Lib\\site-packages\\selenium\\webdriver\\remote\\webdriver.py:457\u001b[0m, in \u001b[0;36mWebDriver.close\u001b[1;34m(self)\u001b[0m\n\u001b[0;32m    449\u001b[0m \u001b[38;5;28;01mdef\u001b[39;00m \u001b[38;5;21mclose\u001b[39m(\u001b[38;5;28mself\u001b[39m) \u001b[38;5;241m-\u001b[39m\u001b[38;5;241m>\u001b[39m \u001b[38;5;28;01mNone\u001b[39;00m:\n\u001b[0;32m    450\u001b[0m \u001b[38;5;250m    \u001b[39m\u001b[38;5;124;03m\"\"\"Closes the current window.\u001b[39;00m\n\u001b[0;32m    451\u001b[0m \n\u001b[0;32m    452\u001b[0m \u001b[38;5;124;03m    :Usage:\u001b[39;00m\n\u001b[1;32m   (...)\u001b[0m\n\u001b[0;32m    455\u001b[0m \u001b[38;5;124;03m            driver.close()\u001b[39;00m\n\u001b[0;32m    456\u001b[0m \u001b[38;5;124;03m    \"\"\"\u001b[39;00m\n\u001b[1;32m--> 457\u001b[0m     \u001b[38;5;28;43mself\u001b[39;49m\u001b[38;5;241;43m.\u001b[39;49m\u001b[43mexecute\u001b[49m\u001b[43m(\u001b[49m\u001b[43mCommand\u001b[49m\u001b[38;5;241;43m.\u001b[39;49m\u001b[43mCLOSE\u001b[49m\u001b[43m)\u001b[49m\n",
      "File \u001b[1;32mF:\\Installations\\Python\\Lib\\site-packages\\selenium\\webdriver\\remote\\webdriver.py:346\u001b[0m, in \u001b[0;36mWebDriver.execute\u001b[1;34m(self, driver_command, params)\u001b[0m\n\u001b[0;32m    344\u001b[0m response \u001b[38;5;241m=\u001b[39m \u001b[38;5;28mself\u001b[39m\u001b[38;5;241m.\u001b[39mcommand_executor\u001b[38;5;241m.\u001b[39mexecute(driver_command, params)\n\u001b[0;32m    345\u001b[0m \u001b[38;5;28;01mif\u001b[39;00m response:\n\u001b[1;32m--> 346\u001b[0m     \u001b[38;5;28;43mself\u001b[39;49m\u001b[38;5;241;43m.\u001b[39;49m\u001b[43merror_handler\u001b[49m\u001b[38;5;241;43m.\u001b[39;49m\u001b[43mcheck_response\u001b[49m\u001b[43m(\u001b[49m\u001b[43mresponse\u001b[49m\u001b[43m)\u001b[49m\n\u001b[0;32m    347\u001b[0m     response[\u001b[38;5;124m\"\u001b[39m\u001b[38;5;124mvalue\u001b[39m\u001b[38;5;124m\"\u001b[39m] \u001b[38;5;241m=\u001b[39m \u001b[38;5;28mself\u001b[39m\u001b[38;5;241m.\u001b[39m_unwrap_value(response\u001b[38;5;241m.\u001b[39mget(\u001b[38;5;124m\"\u001b[39m\u001b[38;5;124mvalue\u001b[39m\u001b[38;5;124m\"\u001b[39m, \u001b[38;5;28;01mNone\u001b[39;00m))\n\u001b[0;32m    348\u001b[0m     \u001b[38;5;28;01mreturn\u001b[39;00m response\n",
      "File \u001b[1;32mF:\\Installations\\Python\\Lib\\site-packages\\selenium\\webdriver\\remote\\errorhandler.py:245\u001b[0m, in \u001b[0;36mErrorHandler.check_response\u001b[1;34m(self, response)\u001b[0m\n\u001b[0;32m    243\u001b[0m         alert_text \u001b[38;5;241m=\u001b[39m value[\u001b[38;5;124m\"\u001b[39m\u001b[38;5;124malert\u001b[39m\u001b[38;5;124m\"\u001b[39m]\u001b[38;5;241m.\u001b[39mget(\u001b[38;5;124m\"\u001b[39m\u001b[38;5;124mtext\u001b[39m\u001b[38;5;124m\"\u001b[39m)\n\u001b[0;32m    244\u001b[0m     \u001b[38;5;28;01mraise\u001b[39;00m exception_class(message, screen, stacktrace, alert_text)  \u001b[38;5;66;03m# type: ignore[call-arg]  # mypy is not smart enough here\u001b[39;00m\n\u001b[1;32m--> 245\u001b[0m \u001b[38;5;28;01mraise\u001b[39;00m exception_class(message, screen, stacktrace)\n",
      "\u001b[1;31mWebDriverException\u001b[0m: Message: disconnected: not connected to DevTools\n  (failed to check if window was closed: disconnected: not connected to DevTools)\n  (Session info: chrome=114.0.5735.199)\nStacktrace:\nBacktrace:\n\tGetHandleVerifier [0x00E0A813+48355]\n\t(No symbol) [0x00D9C4B1]\n\t(No symbol) [0x00CA5358]\n\t(No symbol) [0x00C970EB]\n\t(No symbol) [0x00C977AA]\n\t(No symbol) [0x00C97748]\n\t(No symbol) [0x00C8C2AA]\n\t(No symbol) [0x00C8CB1D]\n\t(No symbol) [0x00CF27B8]\n\t(No symbol) [0x00CEA703]\n\t(No symbol) [0x00CC82DC]\n\t(No symbol) [0x00CC93DD]\n\tGetHandleVerifier [0x0106AABD+2539405]\n\tGetHandleVerifier [0x010AA78F+2800735]\n\tGetHandleVerifier [0x010A456C+2775612]\n\tGetHandleVerifier [0x00E951E0+616112]\n\t(No symbol) [0x00DA5F8C]\n\t(No symbol) [0x00DA2328]\n\t(No symbol) [0x00DA240B]\n\t(No symbol) [0x00D94FF7]\n\tBaseThreadInitThunk [0x76B500C9+25]\n\tRtlGetAppContainerNamedObjectPath [0x77EA7B4E+286]\n\tRtlGetAppContainerNamedObjectPath [0x77EA7B1E+238]\n"
     ]
    }
   ],
   "source": [
    "if __name__ == \"__main__\":\n",
    "    try:\n",
    "        driver = webdriver.Chrome()\n",
    "        driver.get('https://www.google.com')\n",
    "        image_download(\"dogs\", driver)\n",
    "    finally:\n",
    "        driver.close()"
   ]
  },
  {
   "cell_type": "code",
   "execution_count": 130,
   "id": "60cbde35",
   "metadata": {},
   "outputs": [
    {
     "data": {
      "text/plain": [
       "str"
      ]
     },
     "execution_count": 130,
     "metadata": {},
     "output_type": "execute_result"
    }
   ],
   "source": [
    "type(\"anu\")"
   ]
  }
 ],
 "metadata": {
  "kernelspec": {
   "display_name": "Python 3 (ipykernel)",
   "language": "python",
   "name": "python3"
  },
  "language_info": {
   "codemirror_mode": {
    "name": "ipython",
    "version": 3
   },
   "file_extension": ".py",
   "mimetype": "text/x-python",
   "name": "python",
   "nbconvert_exporter": "python",
   "pygments_lexer": "ipython3",
   "version": "3.11.2"
  }
 },
 "nbformat": 4,
 "nbformat_minor": 5
}
